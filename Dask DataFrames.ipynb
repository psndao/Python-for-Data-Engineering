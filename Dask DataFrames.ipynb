{
 "cells": [
  {
   "cell_type": "markdown",
   "id": "5c3c95fb",
   "metadata": {},
   "source": [
    "<h1 style=\"text-align: center; color: #4CAF50;\">Dask DataFrames pour le Traitement de Données à Grande Échelle</h1>\n"
   ]
  },
  {
   "cell_type": "markdown",
   "id": "199611fd",
   "metadata": {
    "notebookRunGroups": {
     "groupValue": "1"
    }
   },
   "source": [
    "\n",
    "**Auteur : Ndao Pape**\n",
    "\n",
    "**Email : papesemoundao2016@gmail.com**"
   ]
  },
  {
   "cell_type": "markdown",
   "id": "09f21648",
   "metadata": {},
   "source": [
    "## Dask DataFrames\n",
    "\n",
    "Les **Dask DataFrames** offrent une alternative parallèle et distribuée à **pandas** pour traiter des ensembles de données plus grands que la mémoire. Les principaux avantages incluent :\n",
    "\n",
    "### Avantages clés :\n",
    "- **Scalabilité** : Traitez des ensembles de données plus grands que la mémoire en travaillant sur des morceaux de données (chunks).\n",
    "- **API familière** : Interface similaire à celle de pandas, facilitant l'adoption.\n",
    "- **Traitement parallèle** : Parallélisation automatique sur les cœurs CPU.\n",
    "- **Évaluation paresseuse** : Les opérations ne sont exécutées que lorsque les résultats sont nécessaires.\n",
    "- **Efficacité mémoire** : Traitez les données en morceaux sans charger tout le fichier en mémoire.\n",
    "\n",
    "### Applications en data engineering :\n",
    "Les **Dask DataFrames** sont essentiels pour :\n",
    "- **Traitement de grands ensembles de données** : Manipuler des ensembles de données qui ne tiennent pas en mémoire.\n",
    "- **Optimisation des performances** : Paralléliser les opérations sur les cœurs CPU.\n",
    "- **Montée en échelle** : Passer du développement à la production avec des volumes de données plus importants.\n",
    "- **Traitement incrémental** : Travailler avec les données en morceaux.\n",
    "- **Intégration avec le code pandas existant** : Modifications minimales pour monter en échelle les flux de travail pandas.\n",
    "\n",
    "### Exemple de cas d'utilisation de Dask DataFrames :\n",
    "L'exemple démontre plusieurs aspects clés des **Dask DataFrames** :\n",
    "- **Création et chargement** : Lecture des données à partir de plusieurs fichiers.\n",
    "- **Opérations de base** : Sélection, filtrage, ajout de colonnes.\n",
    "- **Agrégations** : Regroupement et résumé des données.\n",
    "- **Analyse de séries temporelles** : Travail avec des données de date et d'heure.\n",
    "- **Comparaison des performances** : Comparaison avec pandas pour des ensembles de données volumineux.\n",
    "- **Traitement parallèle** : Répartition du travail entre les partitions.\n",
    "- **Pipeline ETL complet** : Extraction, transformation et chargement des données.\n",
    "- **Visualisation** : Création de graphiques à partir des données traitées.\n",
    "\n",
    "### Quand utiliser Dask DataFrames dans les pipelines ETL :\n",
    "Les **Dask DataFrames** sont particulièrement utiles dans les pipelines ETL lorsque :\n",
    "- Les données sont trop volumineuses pour tenir en mémoire.\n",
    "- Les opérations bénéficient de la parallélisation.\n",
    "- Vous devez mettre à l'échelle du code pandas existant sans réécriture majeure.\n",
    "- Vous souhaitez traiter les données de manière incrémentale par morceaux.\n"
   ]
  },
  {
   "cell_type": "code",
   "execution_count": 2,
   "id": "bd97f196",
   "metadata": {},
   "outputs": [],
   "source": [
    "import dask.dataframe as dd\n",
    "import pandas as pd\n",
    "import numpy as np\n",
    "from datetime import datetime, timedelta\n",
    "import os\n",
    "import time\n",
    "import matplotlib.pyplot as plt\n",
    "import random"
   ]
  },
  {
   "cell_type": "code",
   "execution_count": 3,
   "id": "3897d505",
   "metadata": {},
   "outputs": [
    {
     "name": "stdout",
     "output_type": "stream",
     "text": [
      "DataFrame Dask\n"
     ]
    }
   ],
   "source": [
    "# Créer un répertoire pour les fichiers de données\n",
    "data_dir = \"dask_data\"\n",
    "os.makedirs(data_dir, exist_ok=True)\n",
    "\n",
    "print(\"DataFrame Dask\")"
   ]
  },
  {
   "cell_type": "code",
   "execution_count": 4,
   "id": "367f9a86",
   "metadata": {},
   "outputs": [],
   "source": [
    "\n",
    "# Premièrement, créer une fonction pour générer un morceau de données\n",
    "def generate_data_chunk(chunk_id, rows_per_chunk=100000):\n",
    "    \"\"\"Génère un morceau de données pour des transactions de vente\"\"\"\n",
    "    # Créer une plage de dates\n",
    "    start_date = datetime(2020, 1, 1) + timedelta(days=chunk_id * 30)\n",
    "    end_date = start_date + timedelta(days=30)\n",
    "    dates = [start_date + timedelta(days=random.randint(0, 29)) for _ in range(rows_per_chunk)]\n",
    "    \n",
    "    # Générer des identifiants de clients\n",
    "    customer_ids = [f\"CUST{random.randint(1, 10000):05d}\" for _ in range(rows_per_chunk)]\n",
    "    \n",
    "    # Générer des identifiants de produits et catégories\n",
    "    categories = [\"Électronique\", \"Vêtements\", \"Maison\", \"Livres\", \"Nourriture\"]\n",
    "    product_ids = [f\"PROD{random.randint(1, 1000):04d}\" for _ in range(rows_per_chunk)]\n",
    "    product_categories = [random.choice(categories) for _ in range(rows_per_chunk)]\n",
    "    \n",
    "    # Générer des identifiants de magasins\n",
    "    store_ids = [f\"STORE{random.randint(1, 50):02d}\" for _ in range(rows_per_chunk)]\n",
    "    \n",
    "    # Générer des quantités et des prix\n",
    "    quantities = [random.randint(1, 10) for _ in range(rows_per_chunk)]\n",
    "    prices = [round(random.uniform(5.0, 500.0), 2) for _ in range(rows_per_chunk)]\n",
    "    \n",
    "    # Calculer le montant total\n",
    "    amounts = [q * p for q, p in zip(quantities, prices)]\n",
    "    \n",
    "    # Créer un DataFrame\n",
    "    df = pd.DataFrame({\n",
    "        'date': dates,\n",
    "        'customer_id': customer_ids,\n",
    "        'product_id': product_ids,\n",
    "        'product_category': product_categories,\n",
    "        'store_id': store_ids,\n",
    "        'quantity': quantities,\n",
    "        'price': prices,\n",
    "        'amount': amounts\n",
    "    })\n",
    "    \n",
    "    return df"
   ]
  },
  {
   "cell_type": "code",
   "execution_count": 5,
   "id": "e125d92c",
   "metadata": {},
   "outputs": [
    {
     "name": "stdout",
     "output_type": "stream",
     "text": [
      "Génération de 20 morceaux de données...\n",
      "Morceau généré 1/20: dask_data\\sales_data_00.csv (100000 lignes)\n",
      "Morceau généré 2/20: dask_data\\sales_data_01.csv (100000 lignes)\n",
      "Morceau généré 3/20: dask_data\\sales_data_02.csv (100000 lignes)\n",
      "Morceau généré 4/20: dask_data\\sales_data_03.csv (100000 lignes)\n",
      "Morceau généré 5/20: dask_data\\sales_data_04.csv (100000 lignes)\n",
      "Morceau généré 6/20: dask_data\\sales_data_05.csv (100000 lignes)\n",
      "Morceau généré 7/20: dask_data\\sales_data_06.csv (100000 lignes)\n",
      "Morceau généré 8/20: dask_data\\sales_data_07.csv (100000 lignes)\n",
      "Morceau généré 9/20: dask_data\\sales_data_08.csv (100000 lignes)\n",
      "Morceau généré 10/20: dask_data\\sales_data_09.csv (100000 lignes)\n",
      "Morceau généré 11/20: dask_data\\sales_data_10.csv (100000 lignes)\n",
      "Morceau généré 12/20: dask_data\\sales_data_11.csv (100000 lignes)\n",
      "Morceau généré 13/20: dask_data\\sales_data_12.csv (100000 lignes)\n",
      "Morceau généré 14/20: dask_data\\sales_data_13.csv (100000 lignes)\n",
      "Morceau généré 15/20: dask_data\\sales_data_14.csv (100000 lignes)\n",
      "Morceau généré 16/20: dask_data\\sales_data_15.csv (100000 lignes)\n",
      "Morceau généré 17/20: dask_data\\sales_data_16.csv (100000 lignes)\n",
      "Morceau généré 18/20: dask_data\\sales_data_17.csv (100000 lignes)\n",
      "Morceau généré 19/20: dask_data\\sales_data_18.csv (100000 lignes)\n",
      "Morceau généré 20/20: dask_data\\sales_data_19.csv (100000 lignes)\n"
     ]
    }
   ],
   "source": [
    "# Générer plusieurs morceaux de données et les enregistrer en tant que fichiers CSV\n",
    "num_chunks = 20\n",
    "print(f\"Génération de {num_chunks} morceaux de données...\")\n",
    "\n",
    "for i in range(num_chunks):\n",
    "    df_chunk = generate_data_chunk(i)\n",
    "    filename = os.path.join(data_dir, f\"sales_data_{i:02d}.csv\")\n",
    "    df_chunk.to_csv(filename, index=False)\n",
    "    print(f\"Morceau généré {i+1}/{num_chunks}: {filename} ({len(df_chunk)} lignes)\")"
   ]
  },
  {
   "cell_type": "code",
   "execution_count": 6,
   "id": "724965f1",
   "metadata": {},
   "outputs": [
    {
     "name": "stdout",
     "output_type": "stream",
     "text": [
      "Taille totale du jeu de données : 2000000 lignes\n"
     ]
    }
   ],
   "source": [
    "# Calculer la taille totale du jeu de données\n",
    "total_rows = num_chunks * 100000\n",
    "print(f\"Taille totale du jeu de données : {total_rows} lignes\")"
   ]
  },
  {
   "cell_type": "code",
   "execution_count": 7,
   "id": "1dc5cfa6",
   "metadata": {},
   "outputs": [
    {
     "name": "stdout",
     "output_type": "stream",
     "text": [
      "\n",
      "1. Création des DataFrames Dask\n"
     ]
    }
   ],
   "source": [
    "# 1. Création des DataFrames Dask\n",
    "print(\"\\n1. Création des DataFrames Dask\")"
   ]
  },
  {
   "cell_type": "code",
   "execution_count": 8,
   "id": "215a3119",
   "metadata": {},
   "outputs": [
    {
     "name": "stdout",
     "output_type": "stream",
     "text": [
      "Chargement du DataFrame Dask à partir des fichiers CSV en 0.70 secondes\n"
     ]
    }
   ],
   "source": [
    "# À partir des fichiers CSV\n",
    "start_time = time.time()\n",
    "df = dd.read_csv(os.path.join(data_dir, \"sales_data_*.csv\"))\n",
    "load_time = time.time() - start_time\n",
    "print(f\"Chargement du DataFrame Dask à partir des fichiers CSV en {load_time:.2f} secondes\")"
   ]
  },
  {
   "cell_type": "code",
   "execution_count": 9,
   "id": "016c3156",
   "metadata": {},
   "outputs": [
    {
     "name": "stdout",
     "output_type": "stream",
     "text": [
      "\n",
      "Schéma du DataFrame :\n",
      "date                string[pyarrow]\n",
      "customer_id         string[pyarrow]\n",
      "product_id          string[pyarrow]\n",
      "product_category    string[pyarrow]\n",
      "store_id            string[pyarrow]\n",
      "quantity                      int64\n",
      "price                       float64\n",
      "amount                      float64\n",
      "dtype: object\n",
      "\n",
      "Forme du DataFrame : (<dask_expr.expr.Scalar: expr=ArrowStringConversion(frame=FromMapProjectable(4705965)).size() // 8, dtype=int32>, 8)\n",
      "\n",
      "Exemple de données :\n",
      "         date customer_id product_id product_category store_id  quantity  \\\n",
      "0  2020-01-03   CUST01842   PROD0933           Livres  STORE09         8   \n",
      "1  2020-01-18   CUST02899   PROD0611     Électronique  STORE39         5   \n",
      "2  2020-01-07   CUST01075   PROD0541     Électronique  STORE49         9   \n",
      "3  2020-01-29   CUST07543   PROD0735     Électronique  STORE26         3   \n",
      "4  2020-01-04   CUST00583   PROD0738           Livres  STORE27         3   \n",
      "\n",
      "    price   amount  \n",
      "0  216.89  1735.12  \n",
      "1  116.82   584.10  \n",
      "2  359.76  3237.84  \n",
      "3  494.44  1483.32  \n",
      "4  109.34   328.02  \n",
      "\n",
      "2. Opérations de base\n"
     ]
    }
   ],
   "source": [
    "# Afficher le schéma du DataFrame\n",
    "print(\"\\nSchéma du DataFrame :\")\n",
    "print(df.dtypes)\n",
    "\n",
    "# Afficher la forme du DataFrame (remarque : cela est calculé de manière paresseuse)\n",
    "print(f\"\\nForme du DataFrame : {df.shape}\")\n",
    "\n",
    "# Afficher un échantillon des données (remarque : cela déclenche le calcul)\n",
    "print(\"\\nExemple de données :\")\n",
    "print(df.head())\n",
    "\n",
    "# 2. Opérations de base\n",
    "print(\"\\n2. Opérations de base\")"
   ]
  },
  {
   "cell_type": "code",
   "execution_count": 10,
   "id": "923df575",
   "metadata": {},
   "outputs": [
    {
     "name": "stdout",
     "output_type": "stream",
     "text": [
      "\n",
      "Colonnes sélectionnées :\n",
      "         date customer_id product_category   amount\n",
      "0  2020-01-03   CUST01842           Livres  1735.12\n",
      "1  2020-01-18   CUST02899     Électronique   584.10\n",
      "2  2020-01-07   CUST01075     Électronique  3237.84\n",
      "3  2020-01-29   CUST07543     Électronique  1483.32\n",
      "4  2020-01-04   CUST00583           Livres   328.02\n"
     ]
    }
   ],
   "source": [
    "# Sélectionner des colonnes\n",
    "selected_df = df[['date', 'customer_id', 'product_category', 'amount']]\n",
    "print(\"\\nColonnes sélectionnées :\")\n",
    "print(selected_df.head())"
   ]
  },
  {
   "cell_type": "code",
   "execution_count": 11,
   "id": "58565a03",
   "metadata": {},
   "outputs": [
    {
     "name": "stdout",
     "output_type": "stream",
     "text": [
      "\n",
      "Lignes filtrées (amount > 100) :\n",
      "         date customer_id product_id product_category store_id  quantity  \\\n",
      "0  2020-01-03   CUST01842   PROD0933           Livres  STORE09         8   \n",
      "1  2020-01-18   CUST02899   PROD0611     Électronique  STORE39         5   \n",
      "2  2020-01-07   CUST01075   PROD0541     Électronique  STORE49         9   \n",
      "3  2020-01-29   CUST07543   PROD0735     Électronique  STORE26         3   \n",
      "4  2020-01-04   CUST00583   PROD0738           Livres  STORE27         3   \n",
      "\n",
      "    price   amount  \n",
      "0  216.89  1735.12  \n",
      "1  116.82   584.10  \n",
      "2  359.76  3237.84  \n",
      "3  494.44  1483.32  \n",
      "4  109.34   328.02  \n"
     ]
    }
   ],
   "source": [
    "# Filtrer les lignes\n",
    "filtered_df = df[df['amount'] > 100]\n",
    "print(\"\\nLignes filtrées (amount > 100) :\")\n",
    "print(filtered_df.head())"
   ]
  },
  {
   "cell_type": "code",
   "execution_count": 12,
   "id": "959eb5a7",
   "metadata": {},
   "outputs": [
    {
     "name": "stdout",
     "output_type": "stream",
     "text": [
      "\n",
      "Colonne de réduction ajoutée :\n",
      "    amount  discount\n",
      "0  1735.12   173.512\n",
      "1   584.10    58.410\n",
      "2  3237.84   323.784\n",
      "3  1483.32   148.332\n",
      "4   328.02    32.802\n"
     ]
    }
   ],
   "source": [
    "# Ajouter une nouvelle colonne\n",
    "df['discount'] = df['amount'] * 0.1\n",
    "print(\"\\nColonne de réduction ajoutée :\")\n",
    "print(df[['amount', 'discount']].head())"
   ]
  },
  {
   "cell_type": "code",
   "execution_count": 13,
   "id": "8c3db0af",
   "metadata": {},
   "outputs": [
    {
     "name": "stdout",
     "output_type": "stream",
     "text": [
      "\n",
      "3. Agrégations\n"
     ]
    }
   ],
   "source": [
    "# 3. Agrégations\n",
    "print(\"\\n3. Agrégations\")\n"
   ]
  },
  {
   "cell_type": "code",
   "execution_count": 14,
   "id": "104e94f3",
   "metadata": {},
   "outputs": [
    {
     "name": "stdout",
     "output_type": "stream",
     "text": [
      "Ventes totales : $2778339743.91 (calculé en 3.96 secondes)\n"
     ]
    }
   ],
   "source": [
    "# Calculer les ventes totales\n",
    "start_time = time.time()\n",
    "total_sales = df['amount'].sum().compute()\n",
    "compute_time = time.time() - start_time\n",
    "print(f\"Ventes totales : ${total_sales:.2f} (calculé en {compute_time:.2f} secondes)\")"
   ]
  },
  {
   "cell_type": "code",
   "execution_count": 15,
   "id": "9c862340",
   "metadata": {},
   "outputs": [
    {
     "name": "stdout",
     "output_type": "stream",
     "text": [
      "\n",
      "Ventes par catégorie (calculé en 5.61 secondes) :\n",
      "                        amount                     \n",
      "                           sum         mean   count\n",
      "product_category                                   \n",
      "Nourriture        5.555492e+08  1390.245943  399605\n",
      "Maison            5.553472e+08  1389.434453  399693\n",
      "Vêtements         5.563440e+08  1388.416339  400704\n",
      "Électronique      5.562588e+08  1389.049702  400460\n",
      "Livres            5.548405e+08  1388.705116  399538\n"
     ]
    }
   ],
   "source": [
    "# Regrouper par catégorie et calculer des statistiques\n",
    "start_time = time.time()\n",
    "category_stats = df.groupby('product_category').agg({\n",
    "    'amount': ['sum', 'mean', 'count']\n",
    "}).compute()\n",
    "compute_time = time.time() - start_time\n",
    "print(f\"\\nVentes par catégorie (calculé en {compute_time:.2f} secondes) :\")\n",
    "print(category_stats)"
   ]
  },
  {
   "cell_type": "code",
   "execution_count": 16,
   "id": "9229e2c7",
   "metadata": {},
   "outputs": [
    {
     "name": "stdout",
     "output_type": "stream",
     "text": [
      "\n",
      "4. Analyse des séries temporelles\n"
     ]
    }
   ],
   "source": [
    "# 4. Analyse des séries temporelles\n",
    "print(\"\\n4. Analyse des séries temporelles\")"
   ]
  },
  {
   "cell_type": "code",
   "execution_count": 17,
   "id": "f534945e",
   "metadata": {},
   "outputs": [],
   "source": [
    "# Convertir la colonne date en datetime\n",
    "df['date'] = dd.to_datetime(df['date'])"
   ]
  },
  {
   "cell_type": "code",
   "execution_count": 18,
   "id": "1123023d",
   "metadata": {},
   "outputs": [],
   "source": [
    "# Extraire l'année et le mois\n",
    "df['year'] = df['date'].dt.year\n",
    "df['month'] = df['date'].dt.month"
   ]
  },
  {
   "cell_type": "code",
   "execution_count": 20,
   "id": "61cad9c3",
   "metadata": {},
   "outputs": [
    {
     "name": "stdout",
     "output_type": "stream",
     "text": [
      "\n",
      "Ventes mensuelles (calculées en 18.78 secondes) :\n",
      "                  amount  quantity  unique_customers\n",
      "year month                                          \n",
      "2020 12     1.435235e+08    569319             10000\n",
      "2021 2      1.299366e+08    514133              9999\n",
      "     3      1.432136e+08    568761              9999\n",
      "     7      1.441499e+08    569612             10000\n",
      "2020 2      1.344995e+08    531712             10000\n",
      "     3      1.434903e+08    568077              9999\n",
      "     7      1.432501e+08    568399             10000\n",
      "     11     1.387706e+08    549493             10000\n",
      "     10     1.438319e+08    570019              9998\n",
      "2021 1      1.436885e+08    568524             10000\n"
     ]
    }
   ],
   "source": [
    "# Regrouper par année et mois et calculer la somme des montants et des quantités\n",
    "start_time = time.time()\n",
    "monthly_sales = df.groupby(['year', 'month']).agg({\n",
    "    'amount': 'sum',\n",
    "    'quantity': 'sum'\n",
    "}).compute()\n",
    "\n",
    "# Calculer les clients uniques en utilisant map_partitions\n",
    "def count_unique_customers(partition):\n",
    "    return partition['customer_id'].nunique()\n",
    "\n",
    "# Appliquer la fonction sur chaque partition\n",
    "unique_customers = df.groupby(['year', 'month']).apply(count_unique_customers, meta=('customer_id', 'int')).compute()\n",
    "\n",
    "# Ajouter la colonne 'unique_customers' dans le résultat agrégé\n",
    "monthly_sales['unique_customers'] = unique_customers\n",
    "\n",
    "compute_time = time.time() - start_time\n",
    "print(f\"\\nVentes mensuelles (calculées en {compute_time:.2f} secondes) :\")\n",
    "print(monthly_sales.head(10))\n"
   ]
  },
  {
   "cell_type": "code",
   "execution_count": 21,
   "id": "8ec76b18",
   "metadata": {},
   "outputs": [
    {
     "name": "stdout",
     "output_type": "stream",
     "text": [
      "\n",
      "5. Comparaison des performances avec Pandas\n"
     ]
    }
   ],
   "source": [
    "# 5. Comparaison des performances avec Pandas\n",
    "print(\"\\n5. Comparaison des performances avec Pandas\")"
   ]
  },
  {
   "cell_type": "code",
   "execution_count": 22,
   "id": "cf7a5106",
   "metadata": {},
   "outputs": [
    {
     "name": "stdout",
     "output_type": "stream",
     "text": [
      "Chargement du DataFrame Pandas en 6.36 secondes\n",
      "Dask était 9.1x plus rapide pour le chargement\n",
      "\n",
      "Ventes totales avec Pandas : $2778339743.91 (calculées en 0.02 secondes)\n",
      "Dask était 0.0x plus rapide pour l'agrégation\n"
     ]
    }
   ],
   "source": [
    "# Tenter de charger l'ensemble du jeu de données avec pandas (cela pourrait échouer avec de grands jeux de données)\n",
    "try:\n",
    "    start_time = time.time()\n",
    "    pandas_df = pd.concat([pd.read_csv(os.path.join(data_dir, f\"sales_data_{i:02d}.csv\")) \n",
    "                          for i in range(num_chunks)])\n",
    "    pandas_load_time = time.time() - start_time\n",
    "    print(f\"Chargement du DataFrame Pandas en {pandas_load_time:.2f} secondes\")\n",
    "    \n",
    "    # Comparer avec le temps de chargement Dask\n",
    "    print(f\"Dask était {pandas_load_time/load_time:.1f}x plus rapide pour le chargement\")\n",
    "    \n",
    "    # Comparer les performances d'agrégation\n",
    "    start_time = time.time()\n",
    "    pandas_total = pandas_df['amount'].sum()\n",
    "    pandas_compute_time = time.time() - start_time\n",
    "    print(f\"\\nVentes totales avec Pandas : ${pandas_total:.2f} (calculées en {pandas_compute_time:.2f} secondes)\")\n",
    "    print(f\"Dask était {pandas_compute_time/compute_time:.1f}x plus rapide pour l'agrégation\")\n",
    "    \n",
    "except Exception as e:\n",
    "    print(f\"Échec du chargement de l'ensemble du jeu de données avec Pandas : {e}\")\n",
    "    print(\"Cela montre pourquoi Dask est nécessaire pour les jeux de données plus grands que la mémoire\")"
   ]
  },
  {
   "cell_type": "code",
   "execution_count": 23,
   "id": "3637d938",
   "metadata": {},
   "outputs": [
    {
     "name": "stdout",
     "output_type": "stream",
     "text": [
      "\n",
      "6. Traitement parallèle des données\n"
     ]
    }
   ],
   "source": [
    "# 6. Traitement parallèle des données\n",
    "print(\"\\n6. Traitement parallèle des données\")"
   ]
  },
  {
   "cell_type": "code",
   "execution_count": 24,
   "id": "b024e4a8",
   "metadata": {},
   "outputs": [
    {
     "name": "stdout",
     "output_type": "stream",
     "text": [
      "Le DataFrame a 8 partitions\n"
     ]
    }
   ],
   "source": [
    "# Définir le nombre de partitions\n",
    "df = df.repartition(npartitions=8)\n",
    "print(f\"Le DataFrame a {df.npartitions} partitions\")\n"
   ]
  },
  {
   "cell_type": "code",
   "execution_count": 25,
   "id": "65d4c395",
   "metadata": {},
   "outputs": [],
   "source": [
    "# Appliquer une fonction à chaque partition\n",
    "def process_partition(partition_df):\n",
    "    \"\"\"Traiter une partition de données\"\"\"\n",
    "    # Ajouter une colonne avec la taille de la partition\n",
    "    partition_df['partition_size'] = len(partition_df)\n",
    "    # Ajouter une colonne avec un calcul complexe\n",
    "    partition_df['complex_value'] = np.sqrt(partition_df['amount']) * np.log1p(partition_df['quantity'])\n",
    "    return partition_df"
   ]
  },
  {
   "cell_type": "code",
   "execution_count": 26,
   "id": "abed36ac",
   "metadata": {},
   "outputs": [
    {
     "name": "stdout",
     "output_type": "stream",
     "text": [
      "Partitions traitées en 4.81 secondes\n",
      "\n",
      "Exemple de données traitées :\n",
      "    amount  quantity  partition_size  complex_value\n",
      "0  1735.12         8          200000      91.524888\n",
      "1   584.10         5          200000      43.303531\n",
      "2  3237.84         9          200000     131.021745\n",
      "3  1483.32         3          200000      53.391594\n",
      "4   328.02         3          200000      25.107624\n"
     ]
    }
   ],
   "source": [
    "# Appliquer la fonction à chaque partition\n",
    "start_time = time.time()\n",
    "processed_df = df.map_partitions(process_partition)\n",
    "# Déclencher le calcul\n",
    "sample_processed = processed_df.head()\n",
    "compute_time = time.time() - start_time\n",
    "print(f\"Partitions traitées en {compute_time:.2f} secondes\")\n",
    "print(\"\\nExemple de données traitées :\")\n",
    "print(sample_processed[['amount', 'quantity', 'partition_size', 'complex_value']])"
   ]
  },
  {
   "cell_type": "code",
   "execution_count": 27,
   "id": "59cc499b",
   "metadata": {},
   "outputs": [
    {
     "name": "stdout",
     "output_type": "stream",
     "text": [
      "\n",
      "7. Sauvegarde des résultats\n"
     ]
    }
   ],
   "source": [
    "# 7. Sauvegarde des résultats\n",
    "print(\"\\n7. Sauvegarde des résultats\")"
   ]
  },
  {
   "cell_type": "code",
   "execution_count": 28,
   "id": "7ba26f16",
   "metadata": {},
   "outputs": [],
   "source": [
    "# Sauvegarder les résultats agrégés dans un fichier CSV\n",
    "output_dir = \"dask_output\"\n",
    "os.makedirs(output_dir, exist_ok=True)"
   ]
  },
  {
   "cell_type": "code",
   "execution_count": 29,
   "id": "53cad35c",
   "metadata": {},
   "outputs": [
    {
     "name": "stdout",
     "output_type": "stream",
     "text": [
      "Ventes mensuelles sauvegardées dans dask_output\\monthly_sales.csv\n"
     ]
    }
   ],
   "source": [
    "# Sauvegarder les ventes mensuelles dans un seul fichier CSV\n",
    "monthly_sales.to_csv(os.path.join(output_dir, \"monthly_sales.csv\"))\n",
    "print(f\"Ventes mensuelles sauvegardées dans {os.path.join(output_dir, 'monthly_sales.csv')}\")"
   ]
  },
  {
   "cell_type": "code",
   "execution_count": 30,
   "id": "e80510c9",
   "metadata": {},
   "outputs": [
    {
     "name": "stdout",
     "output_type": "stream",
     "text": [
      "Données traitées sauvegardées dans dask_output\\processed_data_*.csv en 60.09 secondes\n"
     ]
    }
   ],
   "source": [
    "# Remarque : Ceci est une opération parallèle\n",
    "start_time = time.time()\n",
    "processed_df.to_csv(os.path.join(output_dir, \"processed_data_*.csv\"), index=False)\n",
    "save_time = time.time() - start_time\n",
    "print(f\"Données traitées sauvegardées dans {os.path.join(output_dir, 'processed_data_*.csv')} en {save_time:.2f} secondes\")\n"
   ]
  },
  {
   "cell_type": "code",
   "execution_count": 31,
   "id": "c169467d",
   "metadata": {},
   "outputs": [
    {
     "name": "stdout",
     "output_type": "stream",
     "text": [
      "\n",
      "8. Pipeline ETL avancé\n"
     ]
    }
   ],
   "source": [
    "# 8. Pipeline ETL avancé\n",
    "print(\"\\n8. Pipeline ETL avancé\")"
   ]
  },
  {
   "cell_type": "code",
   "execution_count": 48,
   "id": "d2843c31",
   "metadata": {},
   "outputs": [],
   "source": [
    "# Définir un pipeline ETL complet\n",
    "def etl_pipeline():\n",
    "    # Extraction : Charger les données\n",
    "    print(\"Extraction : Chargement des données...\")\n",
    "    df = dd.read_csv(os.path.join(data_dir, \"sales_data_*.csv\"))\n",
    "    df['date'] = dd.to_datetime(df['date'])\n",
    "    \n",
    "    # Transformation : Nettoyer et enrichir les données\n",
    "    print(\"Transformation : Nettoyage et enrichissement des données...\")\n",
    "    \n",
    "    # Ajouter des parties de la date\n",
    "    df['year'] = df['date'].dt.year\n",
    "    df['month'] = df['date'].dt.month\n",
    "    df['day'] = df['date'].dt.day\n",
    "    df['day_of_week'] = df['date'].dt.dayofweek\n",
    "    \n",
    "    # Ajouter des métriques dérivées\n",
    "    df['unit_price'] = df['amount'] / df['quantity']\n",
    "    df['is_weekend'] = df['day_of_week'].isin([5, 6])  # 5=Samedi, 6=Dimanche\n",
    "    \n",
    "    # Catégoriser les transactions\n",
    "    def categorize_amount(x):\n",
    "        if x < 50:\n",
    "            return 'Petit'\n",
    "        elif x < 200:\n",
    "            return 'Moyenne'\n",
    "        else:\n",
    "            return 'Grande'\n",
    "    \n",
    "    df['transaction_size'] = df['amount'].map_partitions(\n",
    "        lambda s: s.apply(categorize_amount)\n",
    "    )\n",
    "    \n",
    "    # Agréger les données pour l'analyse\n",
    "    print(\"Transformation : Agrégation des données...\")\n",
    "    \n",
    "    # Ventes quotidiennes\n",
    "    daily_sales = df.groupby(['year', 'month', 'day']).agg({\n",
    "        'amount': 'sum',\n",
    "        'quantity': 'sum'\n",
    "        \n",
    "    })\n",
    "    \n",
    "    # Performance par catégorie\n",
    "    category_performance = df.groupby('product_category').agg({\n",
    "        'amount': ['sum', 'mean'],\n",
    "        'quantity': 'sum'\n",
    "       \n",
    "    })\n",
    "    \n",
    "    # Performance par magasin\n",
    "    store_performance = df.groupby('store_id').agg({\n",
    "        'amount': 'sum'\n",
    "       \n",
    "    })\n",
    "    \n",
    "    # Segmentation des clients\n",
    "    customer_purchases = df.groupby('customer_id').agg({\n",
    "        'amount': ['sum', 'mean', 'count']\n",
    "        \n",
    "    })\n",
    "    \n",
    "    # Chargement : Sauvegarder les résultats\n",
    "    print(\"Chargement : Sauvegarde des résultats...\")\n",
    "    daily_sales.compute().to_csv(os.path.join(output_dir, \"daily_sales.csv\"))\n",
    "    category_performance.compute().to_csv(os.path.join(output_dir, \"category_performance.csv\"))\n",
    "    store_performance.compute().to_csv(os.path.join(output_dir, \"store_performance.csv\"))\n",
    "    customer_purchases.compute().to_csv(os.path.join(output_dir, \"customer_purchases.csv\"))\n",
    "    \n",
    "    # Retourner les données agrégées pour le reporting\n",
    "    return {\n",
    "        'daily_sales': daily_sales.compute(),\n",
    "        'category_performance': category_performance.compute(),\n",
    "        'store_performance': store_performance.compute(),\n",
    "        'customer_purchases': customer_purchases.compute()\n",
    "    }"
   ]
  },
  {
   "cell_type": "code",
   "execution_count": 49,
   "id": "df5d9955",
   "metadata": {},
   "outputs": [
    {
     "name": "stdout",
     "output_type": "stream",
     "text": [
      "Extraction : Chargement des données...\n",
      "Transformation : Nettoyage et enrichissement des données...\n",
      "Transformation : Agrégation des données...\n",
      "Chargement : Sauvegarde des résultats...\n",
      "Pipeline ETL complété en 56.47 secondes\n"
     ]
    }
   ],
   "source": [
    "# Exécuter le pipeline ETL\n",
    "start_time = time.time()\n",
    "results = etl_pipeline()\n",
    "pipeline_time = time.time() - start_time\n",
    "print(f\"Pipeline ETL complété en {pipeline_time:.2f} secondes\")\n"
   ]
  },
  {
   "cell_type": "code",
   "execution_count": 50,
   "id": "6efa87e6",
   "metadata": {},
   "outputs": [
    {
     "name": "stdout",
     "output_type": "stream",
     "text": [
      "\n",
      "Performance par catégorie :\n",
      "                        amount              quantity\n",
      "                           sum         mean      sum\n",
      "product_category                                    \n",
      "Nourriture        5.555492e+08  1390.245943  2199937\n",
      "Maison            5.553472e+08  1389.434453  2198701\n",
      "Vêtements         5.563440e+08  1388.416339  2203580\n",
      "Électronique      5.562588e+08  1389.049702  2204120\n",
      "Livres            5.548405e+08  1388.705116  2197632\n",
      "\n",
      "Top 5 magasins par ventes :\n",
      "               amount\n",
      "store_id             \n",
      "STORE19   56492840.25\n",
      "STORE42   56252338.57\n",
      "STORE01   56145484.64\n",
      "STORE02   56052678.56\n",
      "STORE47   56035597.54\n",
      "\n",
      "Top 5 clients par nombre d'achats :\n",
      "                amount                   \n",
      "                   sum         mean count\n",
      "customer_id                              \n",
      "CUST02991    324894.11  1264.179416   257\n",
      "CUST05674    352415.07  1426.781660   247\n",
      "CUST01282    340640.60  1379.111741   247\n",
      "CUST06270    350747.78  1425.803984   246\n",
      "CUST06466    320565.99  1303.113780   246\n"
     ]
    }
   ],
   "source": [
    "# Afficher quelques résultats\n",
    "print(\"\\nPerformance par catégorie :\")\n",
    "print(results['category_performance'])\n",
    "\n",
    "print(\"\\nTop 5 magasins par ventes :\")\n",
    "print(results['store_performance'].sort_values('amount', ascending=False).head())\n",
    "\n",
    "print(\"\\nTop 5 clients par nombre d'achats :\")\n",
    "print(results['customer_purchases'].sort_values(('amount', 'count'), ascending=False).head())"
   ]
  },
  {
   "cell_type": "code",
   "execution_count": 51,
   "id": "66bc4133",
   "metadata": {},
   "outputs": [
    {
     "name": "stdout",
     "output_type": "stream",
     "text": [
      "\n",
      "9. Visualisation\n"
     ]
    }
   ],
   "source": [
    "# 9. Visualisation\n",
    "print(\"\\n9. Visualisation\")"
   ]
  },
  {
   "cell_type": "code",
   "execution_count": 53,
   "id": "a00b89f4",
   "metadata": {},
   "outputs": [
    {
     "name": "stdout",
     "output_type": "stream",
     "text": [
      "Graphique des ventes par catégorie sauvegardé dans dask_output\\category_sales.png\n"
     ]
    },
    {
     "data": {
      "image/png": "[encoded data removed]",
      "text/plain": [
       "<Figure size 1000x600 with 1 Axes>"
      ]
     },
     "metadata": {},
     "output_type": "display_data"
    }
   ],
   "source": [
    "# Tracer les ventes quotidiennes\n",
    "daily_sales = results['daily_sales'].reset_index()\n",
    "daily_sales['date'] = pd.to_datetime(daily_sales[['year', 'month', 'day']])\n",
    "\n",
    "\n",
    "# Tracer la performance par catégorie\n",
    "category_perf = results['category_performance'].reset_index()\n",
    "plt.figure(figsize=(10, 6))\n",
    "plt.bar(category_perf['product_category'], category_perf[('amount', 'sum')])\n",
    "plt.title('Ventes par catégorie de produit')\n",
    "plt.xlabel('Catégorie')\n",
    "plt.ylabel('Montant des ventes ($)')\n",
    "plt.xticks(rotation=45)\n",
    "plt.tight_layout()\n",
    "plt.savefig(os.path.join(output_dir, \"category_sales.png\"))\n",
    "print(f\"Graphique des ventes par catégorie sauvegardé dans {os.path.join(output_dir, 'category_sales.png')}\")\n"
   ]
  },
  {
   "cell_type": "code",
   "execution_count": 54,
   "id": "d27d0db8",
   "metadata": {},
   "outputs": [
    {
     "name": "stdout",
     "output_type": "stream",
     "text": [
      "\n",
      "Nettoyage...\n",
      "Exemples de DataFrame Dask complétés\n"
     ]
    }
   ],
   "source": [
    "# Nettoyage\n",
    "print(\"\\nNettoyage...\")\n",
    "# Décommenter pour supprimer les fichiers de données\n",
    "# import shutil\n",
    "# shutil.rmtree(data_dir, ignore_errors=True)\n",
    "# shutil.rmtree(output_dir, ignore_errors=True)\n",
    "\n",
    "print(\"Exemples de DataFrame Dask complétés\")"
   ]
  }
 ],
 "metadata": {
  "kernelspec": {
   "display_name": "Python 3",
   "language": "python",
   "name": "python3"
  },
  "language_info": {
   "codemirror_mode": {
    "name": "ipython",
    "version": 3
   },
   "file_extension": ".py",
   "mimetype": "text/x-python",
   "name": "python",
   "nbconvert_exporter": "python",
   "pygments_lexer": "ipython3",
   "version": "3.12.7"
  }
 },
 "nbformat": 4,
 "nbformat_minor": 5
}
