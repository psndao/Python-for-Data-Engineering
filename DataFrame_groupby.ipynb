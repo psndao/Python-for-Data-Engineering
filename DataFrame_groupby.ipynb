{
 "cells": [
  {
   "cell_type": "markdown",
   "id": "4c154964",
   "metadata": {
    "notebookRunGroups": {
     "groupValue": "1"
    }
   },
   "source": [
    "<center><div style=\"width: 900px;  padding-top:5px; padding-bottom:10px;border: 3px solid #1625CB; text-align: left;background: #1625CB;\">\n",
    " <center>DataFrame.groupeby </center>\n",
    "</div></center>\n"
   ]
  },
  {
   "cell_type": "markdown",
   "id": "3c244f6d",
   "metadata": {
    "notebookRunGroups": {
     "groupValue": "1"
    }
   },
   "source": [
    "L'opération groupby est essentielle à l'agrégation et à la synthèse des données dans les pipelines ETL. \n",
    "Elle permet de :\n",
    "\n",
    "-  Agréger les données à différents niveaux : synthétiser par produit, client, région, période, etc.\n",
    "-  Appliquer plusieurs fonctions d'agrégation : calculer la somme, la moyenne, le nombre, le minimum, le maximum et des indicateurs personnalisés\n",
    "-  Créer des regroupements hiérarchiques : regrouper selon plusieurs dimensions pour une analyse multiniveau\n",
    "-  Transformer les données : réintégrer les valeurs agrégées au DataFrame d'origine\n",
    "-  Filtrer les groupes : conserver uniquement les groupes répondant à certains critères\n",
    "\n",
    "Dans les workflows ETL, groupby est souvent utilisé pour préparer les données pour les rapports, créer des tableaux récapitulatifs pour les entrepôts de données ou générer des fonctionnalités pour les modèles de machine learning. \n",
    "\n",
    "La flexibilité de définition de fonctions d'agrégation personnalisées le rend particulièrement performant pour les logiques métier complexes."
   ]
  },
  {
   "cell_type": "code",
   "execution_count": null,
   "id": "5d95b14b",
   "metadata": {},
   "outputs": [
    {
     "data": {
      "text/html": [
       "<div>\n",
       "<style scoped>\n",
       "    .dataframe tbody tr th:only-of-type {\n",
       "        vertical-align: middle;\n",
       "    }\n",
       "\n",
       "    .dataframe tbody tr th {\n",
       "        vertical-align: top;\n",
       "    }\n",
       "\n",
       "    .dataframe thead th {\n",
       "        text-align: right;\n",
       "    }\n",
       "</style>\n",
       "<table border=\"1\" class=\"dataframe\">\n",
       "  <thead>\n",
       "    <tr style=\"text-align: right;\">\n",
       "      <th></th>\n",
       "      <th>date</th>\n",
       "      <th>product</th>\n",
       "      <th>region</th>\n",
       "      <th>units</th>\n",
       "      <th>price</th>\n",
       "    </tr>\n",
       "  </thead>\n",
       "  <tbody>\n",
       "    <tr>\n",
       "      <th>0</th>\n",
       "      <td>2023-01-01</td>\n",
       "      <td>A</td>\n",
       "      <td>Est</td>\n",
       "      <td>14</td>\n",
       "      <td>24.25</td>\n",
       "    </tr>\n",
       "    <tr>\n",
       "      <th>1</th>\n",
       "      <td>2023-01-02</td>\n",
       "      <td>B</td>\n",
       "      <td>Ouest</td>\n",
       "      <td>1</td>\n",
       "      <td>10.29</td>\n",
       "    </tr>\n",
       "    <tr>\n",
       "      <th>2</th>\n",
       "      <td>2023-01-03</td>\n",
       "      <td>A</td>\n",
       "      <td>Est</td>\n",
       "      <td>40</td>\n",
       "      <td>27.41</td>\n",
       "    </tr>\n",
       "    <tr>\n",
       "      <th>3</th>\n",
       "      <td>2023-01-04</td>\n",
       "      <td>C</td>\n",
       "      <td>Nord</td>\n",
       "      <td>35</td>\n",
       "      <td>78.63</td>\n",
       "    </tr>\n",
       "    <tr>\n",
       "      <th>4</th>\n",
       "      <td>2023-01-05</td>\n",
       "      <td>B</td>\n",
       "      <td>Sud</td>\n",
       "      <td>44</td>\n",
       "      <td>29.80</td>\n",
       "    </tr>\n",
       "    <tr>\n",
       "      <th>5</th>\n",
       "      <td>2023-01-06</td>\n",
       "      <td>A</td>\n",
       "      <td>Ouest</td>\n",
       "      <td>37</td>\n",
       "      <td>10.34</td>\n",
       "    </tr>\n",
       "    <tr>\n",
       "      <th>6</th>\n",
       "      <td>2023-01-07</td>\n",
       "      <td>C</td>\n",
       "      <td>Est</td>\n",
       "      <td>12</td>\n",
       "      <td>72.57</td>\n",
       "    </tr>\n",
       "    <tr>\n",
       "      <th>7</th>\n",
       "      <td>2023-01-08</td>\n",
       "      <td>B</td>\n",
       "      <td>Nord</td>\n",
       "      <td>32</td>\n",
       "      <td>65.65</td>\n",
       "    </tr>\n",
       "    <tr>\n",
       "      <th>8</th>\n",
       "      <td>2023-01-09</td>\n",
       "      <td>A</td>\n",
       "      <td>Sud</td>\n",
       "      <td>24</td>\n",
       "      <td>52.77</td>\n",
       "    </tr>\n",
       "    <tr>\n",
       "      <th>9</th>\n",
       "      <td>2023-01-10</td>\n",
       "      <td>C</td>\n",
       "      <td>Ouest</td>\n",
       "      <td>37</td>\n",
       "      <td>20.52</td>\n",
       "    </tr>\n",
       "    <tr>\n",
       "      <th>10</th>\n",
       "      <td>2023-01-11</td>\n",
       "      <td>A</td>\n",
       "      <td>Est</td>\n",
       "      <td>23</td>\n",
       "      <td>74.57</td>\n",
       "    </tr>\n",
       "    <tr>\n",
       "      <th>11</th>\n",
       "      <td>2023-01-12</td>\n",
       "      <td>B</td>\n",
       "      <td>Ouest</td>\n",
       "      <td>47</td>\n",
       "      <td>13.14</td>\n",
       "    </tr>\n",
       "    <tr>\n",
       "      <th>12</th>\n",
       "      <td>2023-01-13</td>\n",
       "      <td>C</td>\n",
       "      <td>Nord</td>\n",
       "      <td>45</td>\n",
       "      <td>74.50</td>\n",
       "    </tr>\n",
       "    <tr>\n",
       "      <th>13</th>\n",
       "      <td>2023-01-14</td>\n",
       "      <td>A</td>\n",
       "      <td>Sud</td>\n",
       "      <td>12</td>\n",
       "      <td>90.50</td>\n",
       "    </tr>\n",
       "    <tr>\n",
       "      <th>14</th>\n",
       "      <td>2023-01-15</td>\n",
       "      <td>B</td>\n",
       "      <td>Est</td>\n",
       "      <td>5</td>\n",
       "      <td>10.21</td>\n",
       "    </tr>\n",
       "    <tr>\n",
       "      <th>15</th>\n",
       "      <td>2023-01-16</td>\n",
       "      <td>C</td>\n",
       "      <td>Ouest</td>\n",
       "      <td>20</td>\n",
       "      <td>34.68</td>\n",
       "    </tr>\n",
       "    <tr>\n",
       "      <th>16</th>\n",
       "      <td>2023-01-17</td>\n",
       "      <td>A</td>\n",
       "      <td>Nord</td>\n",
       "      <td>2</td>\n",
       "      <td>99.26</td>\n",
       "    </tr>\n",
       "    <tr>\n",
       "      <th>17</th>\n",
       "      <td>2023-01-18</td>\n",
       "      <td>B</td>\n",
       "      <td>Sud</td>\n",
       "      <td>36</td>\n",
       "      <td>66.72</td>\n",
       "    </tr>\n",
       "    <tr>\n",
       "      <th>18</th>\n",
       "      <td>2023-01-19</td>\n",
       "      <td>C</td>\n",
       "      <td>Est</td>\n",
       "      <td>15</td>\n",
       "      <td>21.14</td>\n",
       "    </tr>\n",
       "    <tr>\n",
       "      <th>19</th>\n",
       "      <td>2023-01-20</td>\n",
       "      <td>A</td>\n",
       "      <td>Ouest</td>\n",
       "      <td>39</td>\n",
       "      <td>33.34</td>\n",
       "    </tr>\n",
       "  </tbody>\n",
       "</table>\n",
       "</div>"
      ],
      "text/plain": [
       "         date product region  units  price\n",
       "0  2023-01-01       A    Est     14  24.25\n",
       "1  2023-01-02       B  Ouest      1  10.29\n",
       "2  2023-01-03       A    Est     40  27.41\n",
       "3  2023-01-04       C   Nord     35  78.63\n",
       "4  2023-01-05       B    Sud     44  29.80\n",
       "5  2023-01-06       A  Ouest     37  10.34\n",
       "6  2023-01-07       C    Est     12  72.57\n",
       "7  2023-01-08       B   Nord     32  65.65\n",
       "8  2023-01-09       A    Sud     24  52.77\n",
       "9  2023-01-10       C  Ouest     37  20.52\n",
       "10 2023-01-11       A    Est     23  74.57\n",
       "11 2023-01-12       B  Ouest     47  13.14\n",
       "12 2023-01-13       C   Nord     45  74.50\n",
       "13 2023-01-14       A    Sud     12  90.50\n",
       "14 2023-01-15       B    Est      5  10.21\n",
       "15 2023-01-16       C  Ouest     20  34.68\n",
       "16 2023-01-17       A   Nord      2  99.26\n",
       "17 2023-01-18       B    Sud     36  66.72\n",
       "18 2023-01-19       C    Est     15  21.14\n",
       "19 2023-01-20       A  Ouest     39  33.34"
      ]
     },
     "execution_count": 13,
     "metadata": {},
     "output_type": "execute_result"
    }
   ],
   "source": [
    "import pandas as pd\n",
    "import numpy as np\n",
    "\n",
    "\n",
    "# Données de ventes fictives\n",
    "sales = pd.DataFrame({\n",
    "    'date': pd.date_range(start='2023-01-01', periods=20),\n",
    "    'product': ['A', 'B', 'A', 'C', 'B', 'A', 'C', 'B', 'A', 'C',\n",
    "                'A', 'B', 'C', 'A', 'B', 'C', 'A', 'B', 'C', 'A'],\n",
    "    'region': ['Est', 'Ouest', 'Est', 'Nord', 'Sud', 'Ouest', 'Est', 'Nord', 'Sud', 'Ouest',\n",
    "               'Est', 'Ouest', 'Nord', 'Sud', 'Est', 'Ouest', 'Nord', 'Sud', 'Est', 'Ouest'],\n",
    "    'units': np.random.randint(1, 50, 20),  # Quantité vendue aléatoire\n",
    "    'price': np.random.uniform(10, 100, 20).round(2)  # Prix unitaire aléatoire\n",
    "})\n",
    "sales"
   ]
  },
  {
   "cell_type": "code",
   "execution_count": 14,
   "id": "b4a38205",
   "metadata": {},
   "outputs": [],
   "source": [
    "# Calcul du chiffre d'affaires \n",
    "sales['revenue'] = sales['units'] * sales['price']"
   ]
  },
  {
   "cell_type": "code",
   "execution_count": 15,
   "id": "3dbe66d7",
   "metadata": {},
   "outputs": [
    {
     "name": "stdout",
     "output_type": "stream",
     "text": [
      "Chiffre d'affaires total par produit :\n",
      "product\n",
      "A    7384.85\n",
      "B    6492.84\n",
      "C    8745.33\n",
      "Name: revenue, dtype: float64\n"
     ]
    }
   ],
   "source": [
    "# Regroupement de base avec une seule colonne et une seule agrégation\n",
    "product_sales = sales.groupby('product')['revenue'].sum()\n",
    "print(\"Chiffre d'affaires total par produit :\")\n",
    "print(product_sales)"
   ]
  },
  {
   "cell_type": "code",
   "execution_count": 16,
   "id": "4e06af35",
   "metadata": {},
   "outputs": [
    {
     "name": "stdout",
     "output_type": "stream",
     "text": [
      "\n",
      "Statistiques par produit :\n",
      "         revenue                   units                   \n",
      "             sum        mean count   sum       mean min max\n",
      "product                                                    \n",
      "A        7384.85   923.10625     8   191  23.875000   2  40\n",
      "B        6492.84  1082.14000     6   165  27.500000   1  47\n",
      "C        8745.33  1457.55500     6   164  27.333333  12  45\n"
     ]
    }
   ],
   "source": [
    "# Regroupement avec plusieurs agrégations\n",
    "product_stats = sales.groupby('product').agg({\n",
    "    'revenue': ['sum', 'mean', 'count'],\n",
    "    'units': ['sum', 'mean', 'min', 'max']\n",
    "})\n",
    "print(\"\\nStatistiques par produit :\")\n",
    "print(product_stats)"
   ]
  },
  {
   "cell_type": "code",
   "execution_count": 17,
   "id": "bbcb8974",
   "metadata": {},
   "outputs": [
    {
     "name": "stdout",
     "output_type": "stream",
     "text": [
      "\n",
      "Chiffre d'affaires par région et produit :\n",
      "region  product\n",
      "Est     A          3151.01\n",
      "        B            51.05\n",
      "        C          1187.94\n",
      "Nord    A           198.52\n",
      "        B          2100.80\n",
      "        C          6104.55\n",
      "Ouest   A          1682.84\n",
      "        B           627.87\n",
      "        C          1452.84\n",
      "Sud     A          2352.48\n",
      "        B          3713.12\n",
      "Name: revenue, dtype: float64\n"
     ]
    }
   ],
   "source": [
    "# Regroupement avec plusieurs colonnes\n",
    "region_product_sales = sales.groupby(['region', 'product'])['revenue'].sum()\n",
    "print(\"\\nChiffre d'affaires par région et produit :\")\n",
    "print(region_product_sales)"
   ]
  },
  {
   "cell_type": "code",
   "execution_count": 18,
   "id": "02a0abb5",
   "metadata": {},
   "outputs": [
    {
     "name": "stdout",
     "output_type": "stream",
     "text": [
      "\n",
      "Agrégation personnalisée - Chiffre d'affaires par unité pour chaque produit :\n",
      "product\n",
      "A    38.664136\n",
      "B    39.350545\n",
      "C    53.325183\n",
      "dtype: float64\n"
     ]
    },
    {
     "name": "stderr",
     "output_type": "stream",
     "text": [
      "C:\\Users\\papes\\AppData\\Local\\Temp\\ipykernel_24284\\1216626984.py:5: DeprecationWarning: DataFrameGroupBy.apply operated on the grouping columns. This behavior is deprecated, and in a future version of pandas the grouping columns will be excluded from the operation. Either pass `include_groups=False` to exclude the groupings or explicitly select the grouping columns after groupby to silence this warning.\n",
      "  custom_agg = sales.groupby('product').apply(revenue_per_unit)\n"
     ]
    }
   ],
   "source": [
    "\n",
    "# Regroupement avec une fonction d’agrégation personnalisée\n",
    "def revenue_per_unit(x):\n",
    "    return x['revenue'].sum() / x['units'].sum()\n",
    "\n",
    "custom_agg = sales.groupby('product').apply(revenue_per_unit)\n",
    "print(\"\\nAgrégation personnalisée - Chiffre d'affaires par unité pour chaque produit :\")\n",
    "print(custom_agg)"
   ]
  },
  {
   "cell_type": "code",
   "execution_count": 19,
   "id": "bae60ed6",
   "metadata": {},
   "outputs": [
    {
     "name": "stdout",
     "output_type": "stream",
     "text": [
      "\n",
      "DataFrame avec une colonne transformée (prix moyen par produit) :\n",
      "  product  price  product_avg_price\n",
      "0       A  24.25             51.555\n",
      "1       B  10.29             32.635\n",
      "2       A  27.41             51.555\n",
      "3       C  78.63             50.340\n",
      "4       B  29.80             32.635\n",
      "5       A  10.34             51.555\n",
      "6       C  72.57             50.340\n",
      "7       B  65.65             32.635\n",
      "8       A  52.77             51.555\n",
      "9       C  20.52             50.340\n"
     ]
    }
   ],
   "source": [
    "# Regroupement avec transformation (conserve la forme du DataFrame d'origine)\n",
    "sales['product_avg_price'] = sales.groupby('product')['price'].transform('mean')\n",
    "print(\"\\nDataFrame avec une colonne transformée (prix moyen par produit) :\")\n",
    "print(sales[['product', 'price', 'product_avg_price']].head(10))\n"
   ]
  },
  {
   "cell_type": "code",
   "execution_count": 20,
   "id": "e52b13d8",
   "metadata": {},
   "outputs": [
    {
     "name": "stdout",
     "output_type": "stream",
     "text": [
      "\n",
      "Produits à fort volume (>100 unités vendues au total) :\n",
      "['A' 'B' 'C']\n"
     ]
    }
   ],
   "source": [
    "# Regroupement avec filtrage\n",
    "high_volume_products = sales.groupby('product').filter(lambda x: x['units'].sum() > 100)\n",
    "print(\"\\nProduits à fort volume (>100 unités vendues au total) :\")\n",
    "print(high_volume_products['product'].unique())"
   ]
  },
  {
   "cell_type": "code",
   "execution_count": 21,
   "id": "60c0952e",
   "metadata": {},
   "outputs": [
    {
     "name": "stdout",
     "output_type": "stream",
     "text": [
      "\n",
      "Chiffre d'affaires mensuel :\n",
      "month\n",
      "1    22623.02\n",
      "Name: revenue, dtype: float64\n"
     ]
    }
   ],
   "source": [
    "# Regroupement basé sur le temps (par mois)\n",
    "sales['month'] = sales['date'].dt.month\n",
    "monthly_sales = sales.groupby('month')['revenue'].sum()\n",
    "print(\"\\nChiffre d'affaires mensuel :\")\n",
    "print(monthly_sales)"
   ]
  },
  {
   "cell_type": "code",
   "execution_count": 22,
   "id": "da64321e",
   "metadata": {},
   "outputs": [
    {
     "name": "stdout",
     "output_type": "stream",
     "text": [
      "\n",
      "Tableau croisé du chiffre d'affaires par région et produit :\n",
      "product        A        B        C\n",
      "region                            \n",
      "Est      3151.01    51.05  1187.94\n",
      "Nord      198.52  2100.80  6104.55\n",
      "Ouest    1682.84   627.87  1452.84\n",
      "Sud      2352.48  3713.12     0.00\n"
     ]
    }
   ],
   "source": [
    "# Regroupement avec tableau croisé dynamique (approche alternative)\n",
    "pivot_table = pd.pivot_table(\n",
    "    sales, \n",
    "    values='revenue', \n",
    "    index='region', \n",
    "    columns='product', \n",
    "    aggfunc='sum',\n",
    "    fill_value=0\n",
    ")\n",
    "print(\"\\nTableau croisé du chiffre d'affaires par région et produit :\")\n",
    "print(pivot_table)"
   ]
  },
  {
   "cell_type": "code",
   "execution_count": null,
   "id": "f7135866",
   "metadata": {},
   "outputs": [
    {
     "ename": "SyntaxError",
     "evalue": "invalid non-printable character U+00A0 (390026360.py, line 1)",
     "output_type": "error",
     "traceback": [
      "\u001b[1;36m  Cell \u001b[1;32mIn[12], line 1\u001b[1;36m\u001b[0m\n\u001b[1;33m    L'opération groupby est essentielle à l'agrégation et à la synthèse des données dans les pipelines ETL. Elle permet de :\u001b[0m\n\u001b[1;37m                                                                                                                          ^\u001b[0m\n\u001b[1;31mSyntaxError\u001b[0m\u001b[1;31m:\u001b[0m invalid non-printable character U+00A0\n"
     ]
    }
   ],
   "source": [
    "L'opération groupby est essentielle à l'agrégation et à la synthèse des données dans les pipelines ETL. Elle permet de :\n",
    "Agréger les données à différents niveaux : synthétiser par produit, client, région, période, etc.\n",
    "Appliquer plusieurs fonctions d'agrégation : calculer la somme, la moyenne, le nombre, le minimum, le maximum et des indicateurs personnalisés\n",
    "Créer des regroupements hiérarchiques : regrouper selon plusieurs dimensions pour une analyse multiniveau\n",
    "Transformer les données : réintégrer les valeurs agrégées au DataFrame d'origine\n",
    "Filtrer les groupes : conserver uniquement les groupes répondant à certains critères\n",
    "Dans les workflows ETL, groupby est souvent utilisé pour préparer les données pour les rapports, créer des tableaux récapitulatifs pour les entrepôts de données ou générer des fonctionnalités pour les modèles de machine learning. La flexibilité de définition de fonctions d'agrégation personnalisées le rend particulièrement performant pour les logiques métier complexes."
   ]
  },
  {
   "cell_type": "code",
   "execution_count": null,
   "metadata": {},
   "outputs": [],
   "source": []
  }
 ],
 "metadata": {
  "kernelspec": {
   "display_name": "Python 3",
   "language": "python",
   "name": "python3"
  },
  "language_info": {
   "codemirror_mode": {
    "name": "ipython",
    "version": 3
   },
   "file_extension": ".py",
   "mimetype": "text/x-python",
   "name": "python",
   "nbconvert_exporter": "python",
   "pygments_lexer": "ipython3",
   "version": "3.12.7"
  }
 },
 "nbformat": 4,
 "nbformat_minor": 5
}
