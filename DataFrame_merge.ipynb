{
 "cells": [
  {
   "cell_type": "code",
   "execution_count": 4,
   "id": "61b9cf34",
   "metadata": {},
   "outputs": [
    {
     "data": {
      "text/html": [
       "<div>\n",
       "<style scoped>\n",
       "    .dataframe tbody tr th:only-of-type {\n",
       "        vertical-align: middle;\n",
       "    }\n",
       "\n",
       "    .dataframe tbody tr th {\n",
       "        vertical-align: top;\n",
       "    }\n",
       "\n",
       "    .dataframe thead th {\n",
       "        text-align: right;\n",
       "    }\n",
       "</style>\n",
       "<table border=\"1\" class=\"dataframe\">\n",
       "  <thead>\n",
       "    <tr style=\"text-align: right;\">\n",
       "      <th></th>\n",
       "      <th>customer_id</th>\n",
       "      <th>name</th>\n",
       "      <th>segment</th>\n",
       "    </tr>\n",
       "  </thead>\n",
       "  <tbody>\n",
       "    <tr>\n",
       "      <th>0</th>\n",
       "      <td>1</td>\n",
       "      <td>Alice</td>\n",
       "      <td>Premium</td>\n",
       "    </tr>\n",
       "    <tr>\n",
       "      <th>1</th>\n",
       "      <td>2</td>\n",
       "      <td>Bob</td>\n",
       "      <td>Standard</td>\n",
       "    </tr>\n",
       "    <tr>\n",
       "      <th>2</th>\n",
       "      <td>3</td>\n",
       "      <td>Charlie</td>\n",
       "      <td>Premium</td>\n",
       "    </tr>\n",
       "    <tr>\n",
       "      <th>3</th>\n",
       "      <td>4</td>\n",
       "      <td>David</td>\n",
       "      <td>Standard</td>\n",
       "    </tr>\n",
       "    <tr>\n",
       "      <th>4</th>\n",
       "      <td>5</td>\n",
       "      <td>Eve</td>\n",
       "      <td>Premium</td>\n",
       "    </tr>\n",
       "  </tbody>\n",
       "</table>\n",
       "</div>"
      ],
      "text/plain": [
       "   customer_id     name   segment\n",
       "0            1    Alice   Premium\n",
       "1            2      Bob  Standard\n",
       "2            3  Charlie   Premium\n",
       "3            4    David  Standard\n",
       "4            5      Eve   Premium"
      ]
     },
     "execution_count": 4,
     "metadata": {},
     "output_type": "execute_result"
    }
   ],
   "source": [
    "import pandas as pd\n",
    "\n",
    "# Sample customer data\n",
    "customers = pd.DataFrame({\n",
    "    'customer_id': [1, 2, 3, 4, 5],\n",
    "    'name': ['Alice', 'Bob', 'Charlie', 'David', 'Eve'],\n",
    "    'segment': ['Premium', 'Standard', 'Premium', 'Standard', 'Premium']\n",
    "})\n",
    "customers"
   ]
  },
  {
   "cell_type": "code",
   "execution_count": 6,
   "id": "785727d0",
   "metadata": {},
   "outputs": [
    {
     "data": {
      "text/html": [
       "<div>\n",
       "<style scoped>\n",
       "    .dataframe tbody tr th:only-of-type {\n",
       "        vertical-align: middle;\n",
       "    }\n",
       "\n",
       "    .dataframe tbody tr th {\n",
       "        vertical-align: top;\n",
       "    }\n",
       "\n",
       "    .dataframe thead th {\n",
       "        text-align: right;\n",
       "    }\n",
       "</style>\n",
       "<table border=\"1\" class=\"dataframe\">\n",
       "  <thead>\n",
       "    <tr style=\"text-align: right;\">\n",
       "      <th></th>\n",
       "      <th>order_id</th>\n",
       "      <th>customer_id</th>\n",
       "      <th>amount</th>\n",
       "    </tr>\n",
       "  </thead>\n",
       "  <tbody>\n",
       "    <tr>\n",
       "      <th>0</th>\n",
       "      <td>101</td>\n",
       "      <td>1</td>\n",
       "      <td>150.50</td>\n",
       "    </tr>\n",
       "    <tr>\n",
       "      <th>1</th>\n",
       "      <td>102</td>\n",
       "      <td>2</td>\n",
       "      <td>200.25</td>\n",
       "    </tr>\n",
       "    <tr>\n",
       "      <th>2</th>\n",
       "      <td>103</td>\n",
       "      <td>3</td>\n",
       "      <td>50.75</td>\n",
       "    </tr>\n",
       "    <tr>\n",
       "      <th>3</th>\n",
       "      <td>104</td>\n",
       "      <td>6</td>\n",
       "      <td>300.00</td>\n",
       "    </tr>\n",
       "    <tr>\n",
       "      <th>4</th>\n",
       "      <td>105</td>\n",
       "      <td>1</td>\n",
       "      <td>120.80</td>\n",
       "    </tr>\n",
       "  </tbody>\n",
       "</table>\n",
       "</div>"
      ],
      "text/plain": [
       "   order_id  customer_id  amount\n",
       "0       101            1  150.50\n",
       "1       102            2  200.25\n",
       "2       103            3   50.75\n",
       "3       104            6  300.00\n",
       "4       105            1  120.80"
      ]
     },
     "execution_count": 6,
     "metadata": {},
     "output_type": "execute_result"
    }
   ],
   "source": [
    "# Sample order data\n",
    "orders = pd.DataFrame({\n",
    "    'order_id': [101, 102, 103, 104, 105],\n",
    "    'customer_id': [1, 2, 3, 6, 1],  # Note: customer_id 6 doesn't exist in customers\n",
    "    'amount': [150.50, 200.25, 50.75, 300.00, 120.80]\n",
    "})\n",
    "orders"
   ]
  },
  {
   "cell_type": "code",
   "execution_count": 15,
   "id": "b42c8967",
   "metadata": {},
   "outputs": [
    {
     "name": "stdout",
     "output_type": "stream",
     "text": [
      "Résultat de la jointure interne :\n",
      "   customer_id     name   segment  order_id  amount\n",
      "0            1    Alice   Premium       101  150.50\n",
      "1            1    Alice   Premium       105  120.80\n",
      "2            2      Bob  Standard       102  200.25\n",
      "3            3  Charlie   Premium       103   50.75\n"
     ]
    }
   ],
   "source": [
    "# Jointure interne – uniquement les enregistrements correspondants dans les deux DataFrames\n",
    "inner_join = customers.merge(orders, on='customer_id', how='inner')\n",
    "print(\"Résultat de la jointure interne :\")\n",
    "print(inner_join)"
   ]
  },
  {
   "cell_type": "code",
   "execution_count": 14,
   "id": "e2f9b104",
   "metadata": {},
   "outputs": [
    {
     "name": "stdout",
     "output_type": "stream",
     "text": [
      "\n",
      "Résultat de la jointure gauche :\n",
      "   customer_id     name   segment  order_id  amount\n",
      "0            1    Alice   Premium     101.0  150.50\n",
      "1            1    Alice   Premium     105.0  120.80\n",
      "2            2      Bob  Standard     102.0  200.25\n",
      "3            3  Charlie   Premium     103.0   50.75\n",
      "4            4    David  Standard       NaN     NaN\n",
      "5            5      Eve   Premium       NaN     NaN\n"
     ]
    }
   ],
   "source": [
    "# Jointure gauche – tous les enregistrements du DataFrame de gauche, correspondants du droit\n",
    "left_join = customers.merge(orders, on='customer_id', how='left')\n",
    "print(\"\\nRésultat de la jointure gauche :\")\n",
    "print(left_join)"
   ]
  },
  {
   "cell_type": "code",
   "execution_count": 13,
   "id": "16991b30",
   "metadata": {},
   "outputs": [
    {
     "name": "stdout",
     "output_type": "stream",
     "text": [
      "\n",
      "Résultat de la jointure droite :\n",
      "   customer_id     name   segment  order_id  amount\n",
      "0            1    Alice   Premium       101  150.50\n",
      "1            2      Bob  Standard       102  200.25\n",
      "2            3  Charlie   Premium       103   50.75\n",
      "3            6      NaN       NaN       104  300.00\n",
      "4            1    Alice   Premium       105  120.80\n"
     ]
    }
   ],
   "source": [
    "# Jointure droite – tous les enregistrements du DataFrame de droite, correspondants du gauche\n",
    "right_join = customers.merge(orders, on='customer_id', how='right')\n",
    "print(\"\\nRésultat de la jointure droite :\")\n",
    "print(right_join)"
   ]
  },
  {
   "cell_type": "code",
   "execution_count": 12,
   "id": "c4d24a34",
   "metadata": {},
   "outputs": [
    {
     "name": "stdout",
     "output_type": "stream",
     "text": [
      "\n",
      "Résultat de la jointure externe :\n",
      "   customer_id     name   segment  order_id  amount\n",
      "0            1    Alice   Premium     101.0  150.50\n",
      "1            1    Alice   Premium     105.0  120.80\n",
      "2            2      Bob  Standard     102.0  200.25\n",
      "3            3  Charlie   Premium     103.0   50.75\n",
      "4            4    David  Standard       NaN     NaN\n",
      "5            5      Eve   Premium       NaN     NaN\n",
      "6            6      NaN       NaN     104.0  300.00\n"
     ]
    }
   ],
   "source": [
    "# Jointure externe – tous les enregistrements des deux DataFrames\n",
    "outer_join = customers.merge(orders, on='customer_id', how='outer')\n",
    "print(\"\\nRésultat de la jointure externe :\")\n",
    "print(outer_join)"
   ]
  },
  {
   "cell_type": "code",
   "execution_count": 11,
   "id": "b4bd0d0c",
   "metadata": {},
   "outputs": [
    {
     "name": "stdout",
     "output_type": "stream",
     "text": [
      "\n",
      "Jointure avec des noms de colonnes différents :\n",
      "   cust_id     name   segment  order_id  customer_id  amount\n",
      "0        1    Alice   Premium       101            1  150.50\n",
      "1        1    Alice   Premium       105            1  120.80\n",
      "2        2      Bob  Standard       102            2  200.25\n",
      "3        3  Charlie   Premium       103            3   50.75\n"
     ]
    }
   ],
   "source": [
    "# Jointure avec des noms de colonnes différents\n",
    "customers_alt = customers.rename(columns={'customer_id': 'cust_id'})\n",
    "join_diff_cols = customers_alt.merge(\n",
    "    orders, \n",
    "    left_on='cust_id',  # Nom de la colonne dans le DataFrame de gauche\n",
    "    right_on='customer_id',  # Nom de la colonne dans le DataFrame de droite\n",
    "    how='inner'\n",
    ")\n",
    "print(\"\\nJointure avec des noms de colonnes différents :\")\n",
    "print(join_diff_cols)"
   ]
  },
  {
   "cell_type": "code",
   "execution_count": null,
   "id": "e9aab6a7",
   "metadata": {},
   "outputs": [
    {
     "name": "stdout",
     "output_type": "stream",
     "text": [
      "\n",
      "Jointure sur plusieurs clés :\n",
      "  key1  key2  value  other_value\n",
      "0    A     1    100           10\n",
      "1    B     2    200           20\n",
      "2    C     3    300           30\n"
     ]
    }
   ],
   "source": [
    "# Jointure sur plusieurs colonnes\n",
    "multi_key_df1 = pd.DataFrame({\n",
    "    'key1': ['A', 'B', 'C', 'D'],\n",
    "    'key2': [1, 2, 3, 4],\n",
    "    'value': [100, 200, 300, 400]\n",
    "})\n",
    "\n",
    "multi_key_df2 = pd.DataFrame({\n",
    "    'key1': ['A', 'B', 'C', 'E'],\n",
    "    'key2': [1, 2, 3, 5],\n",
    "    'other_value': [10, 20, 30, 50]\n",
    "})\n",
    "\n",
    "multi_key_join = multi_key_df1.merge(\n",
    "    multi_key_df2, \n",
    "    on=['key1', 'key2'],  # Jointure sur plusieurs colonnes\n",
    "    how='inner'\n",
    ")\n",
    "print(\"\\nJointure sur plusieurs clés :\")\n",
    "print(multi_key_join)"
   ]
  }
 ],
 "metadata": {
  "kernelspec": {
   "display_name": "Python 3",
   "language": "python",
   "name": "python3"
  },
  "language_info": {
   "codemirror_mode": {
    "name": "ipython",
    "version": 3
   },
   "file_extension": ".py",
   "mimetype": "text/x-python",
   "name": "python",
   "nbconvert_exporter": "python",
   "pygments_lexer": "ipython3",
   "version": "3.12.7"
  }
 },
 "nbformat": 4,
 "nbformat_minor": 5
}
